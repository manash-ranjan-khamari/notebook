{
 "cells": [
  {
   "cell_type": "markdown",
   "metadata": {},
   "source": [
    "## Formatting in Markdown cells\n",
    "\n",
    "### Emphasis\n",
    "\n",
    "__\"This will appear bold.\"__\n",
    "\n",
    "**\"So will this.\"**\n",
    "\n",
    "_\"Just one dash makes it italic.\"_\n",
    "\n",
    "*\"And one star on either side as well.\"*\n",
    "\n",
    "***\"This one's both bold and italic.\"***\n"
   ]
  },
  {
   "cell_type": "code",
   "execution_count": 18,
   "metadata": {},
   "outputs": [
    {
     "name": "stdout",
     "output_type": "stream",
     "text": [
      "bandra mumb\n"
     ]
    }
   ],
   "source": [
    "input_str = \"bmaunmdbr#a#\"\n",
    "\n",
    "print(input_str[0::2].rstrip('#'), input_str[1::2].rstrip('#'))"
   ]
  },
  {
   "cell_type": "code",
   "execution_count": null,
   "metadata": {},
   "outputs": [],
   "source": []
  }
 ],
 "metadata": {
  "kernelspec": {
   "display_name": "Python 3",
   "language": "python",
   "name": "python3"
  },
  "language_info": {
   "codemirror_mode": {
    "name": "ipython",
    "version": 3
   },
   "file_extension": ".py",
   "mimetype": "text/x-python",
   "name": "python",
   "nbconvert_exporter": "python",
   "pygments_lexer": "ipython3",
   "version": "3.8.3"
  }
 },
 "nbformat": 4,
 "nbformat_minor": 4
}
