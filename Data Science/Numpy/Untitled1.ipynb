{
 "cells": [
  {
   "cell_type": "markdown",
   "metadata": {},
   "source": [
    "## Fibonacci Series"
   ]
  },
  {
   "cell_type": "code",
   "execution_count": 39,
   "metadata": {},
   "outputs": [
    {
     "name": "stdout",
     "output_type": "stream",
     "text": [
      "Enter a number: 10\n",
      "[0, 1, 1, 2, 3, 5, 8, 13, 21, 34]\n"
     ]
    }
   ],
   "source": [
    "inp = int(input(\"Enter a number: \"))\n",
    "output = [0, 1]\n",
    "\n",
    "if (inp == 1):\n",
    "    print([0])\n",
    "elif (inp == 2):\n",
    "    print(output)\n",
    "else:\n",
    "    sum = 0\n",
    "    \n",
    "    for item in range(2, inp):\n",
    "        output.append(output[item - 1] + output[item - 2])\n",
    "    \n",
    "    print(output)\n",
    "        "
   ]
  },
  {
   "cell_type": "markdown",
   "metadata": {},
   "source": [
    "## Sum of prime upto a certain no."
   ]
  },
  {
   "cell_type": "code",
   "execution_count": null,
   "metadata": {},
   "outputs": [],
   "source": [
    "import math\n",
    "\n",
    "inp = int(input(\"Enter a number: \"))\n",
    "\n",
    "def isPrime(num):\n",
    "    for itm in range(2, math.sqrt(num)):\n",
    "        if (num % item == 0):\n",
    "            return False\n",
    "    \n",
    "    return True\n",
    "\n",
    "sum = 0\n",
    "\n",
    "[item for item in range(2, inp+1) if isPrime(item)]"
   ]
  },
  {
   "cell_type": "code",
   "execution_count": null,
   "metadata": {},
   "outputs": [],
   "source": [
    "def isPme(num):\n",
    "    print(num)"
   ]
  },
  {
   "cell_type": "code",
   "execution_count": null,
   "metadata": {},
   "outputs": [],
   "source": [
    "isPme(10)"
   ]
  },
  {
   "cell_type": "code",
   "execution_count": null,
   "metadata": {},
   "outputs": [],
   "source": []
  }
 ],
 "metadata": {
  "kernelspec": {
   "display_name": "Python 3",
   "language": "python",
   "name": "python3"
  },
  "language_info": {
   "codemirror_mode": {
    "name": "ipython",
    "version": 3
   },
   "file_extension": ".py",
   "mimetype": "text/x-python",
   "name": "python",
   "nbconvert_exporter": "python",
   "pygments_lexer": "ipython3",
   "version": "3.8.3"
  }
 },
 "nbformat": 4,
 "nbformat_minor": 4
}
