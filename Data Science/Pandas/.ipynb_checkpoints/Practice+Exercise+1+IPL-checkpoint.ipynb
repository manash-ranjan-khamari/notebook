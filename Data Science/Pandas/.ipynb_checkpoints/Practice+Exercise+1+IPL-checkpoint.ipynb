{
 "cells": [
  {
   "cell_type": "markdown",
   "metadata": {},
   "source": [
    "## Practice Exercise 1"
   ]
  },
  {
   "cell_type": "markdown",
   "metadata": {},
   "source": [
    "This is the first exercise for Pandas. You are provided with 2 fictional dataframes based on Indian Premier League (IPL). The first dataframe contains the data for all the teams who participated in the year 2018. In the second dataframe, the data is for the year 2017."
   ]
  },
  {
   "cell_type": "code",
   "execution_count": null,
   "metadata": {},
   "outputs": [],
   "source": [
    "# import the required libraries - numpy and pandas\n"
   ]
  },
  {
   "cell_type": "markdown",
   "metadata": {},
   "source": [
    "#### Data Dictionary\n",
    "\n",
    "-  Team: Team name\n",
    "-  Matches: Total number of matches played\n",
    "-  Won: Number of matches won\n",
    "-  Lost: Number of matches lost\n",
    "-  Tied': Number of matches tied\n",
    "-  N/R: Number of matches with no result\n",
    "-  NRR: Net run rate (Rate of scoring the runs)\n",
    "-  For: Sum of runs scored by the team against other teams\n",
    "-  Against: Sum of runs scored by the opposite playing teams"
   ]
  },
  {
   "cell_type": "code",
   "execution_count": null,
   "metadata": {},
   "outputs": [],
   "source": [
    "# ipl18 contains the data for 2018\n",
    "ipl18 = pd.DataFrame({'Team': ['SRH', 'CSK', 'KKR', 'RR', 'MI', 'RCB', 'KXIP', 'DD'],\n",
    "                         'Matches': [14, 14, 14, 14, 14, 14, 14, 14],\n",
    "                         'Won': [9, 9, 8, 7, 6, 6, 6, 5],\n",
    "                         'Lost': [5, 5, 6, 7, 8, 8, 8, 9],\n",
    "                         'Tied': [0, 0, 0, 0, 0, 0, 0, 0],\n",
    "                         'N/R': [0, 0, 0, 0, 0, 0, 0, 0],\n",
    "                         'NRR': [0.284, 0.253, -0.070, -0.250, 0.317, 0.129, -0.502, -0.222],\n",
    "                         'For': [2230, 2488, 2363, 2130, 2380, 2322, 2210, 2297],\n",
    "                         'Against': [2193, 2433, 2425, 2141, 2282, 2383, 2259, 2304]},\n",
    "                         index = range(1,9)\n",
    "                    )"
   ]
  },
  {
   "cell_type": "code",
   "execution_count": null,
   "metadata": {},
   "outputs": [],
   "source": [
    "# print the entire dataframe to check the entries\n",
    "ipl18"
   ]
  },
  {
   "cell_type": "code",
   "execution_count": null,
   "metadata": {},
   "outputs": [],
   "source": [
    "# ipl17 contains the data for 2017\n",
    "ipl17 = pd.DataFrame({'Team': ['MI', 'RPS', 'SRH', 'KKR', 'KXIP', 'DD', 'GL', 'RCB'],\n",
    "                         'Matches': [14, 14, 14, 14, 14, 14, 14, 14],\n",
    "                         'Won': [10, 9, 8, 8, 7, 6, 4, 3],\n",
    "                         'Lost': [4, 5, 5, 6, 7, 8, 10, 10],\n",
    "                         'Tied': [0, 0, 0, 0, 0, 0, 0, 0],\n",
    "                         'N/R': [0, 0, 1, 0, 0, 0, 0, 1],\n",
    "                         'NRR': [0.784, 0.176, 0.469, 0.641, 0.123, -0.512, -0.412, -1.299],\n",
    "                         'For': [2407, 2180, 2221, 2329, 2207, 2219, 2406, 1845],\n",
    "                         'Against': [2242, 2165, 2118, 2300, 2229, 2255, 2472, 2033]},\n",
    "                         index = range(1,9)\n",
    "                    )"
   ]
  },
  {
   "cell_type": "code",
   "execution_count": null,
   "metadata": {},
   "outputs": [],
   "source": [
    "# print the entire dataframe to check the entries\n",
    "ipl17"
   ]
  },
  {
   "cell_type": "markdown",
   "metadata": {},
   "source": [
    " As a part of this exercise, solve the questions that are provided below. There are few tasks that you will have to perform to be able to answer the questions.\n",
    "\n",
    "**Task 1**\n",
    "\n",
    "You have to create a new column '*Points*' in both the dataframes that stores the total points scored by each team. The following scoring system is used to calculate the points of a team:\n",
    "-  Win: 2 points\n",
    "-  Loss: 0 points\n",
    "-  Tie: 1 point\n",
    "-  N/R (no result): 1 point"
   ]
  },
  {
   "cell_type": "code",
   "execution_count": null,
   "metadata": {},
   "outputs": [],
   "source": [
    "# Type your code here\n"
   ]
  },
  {
   "cell_type": "markdown",
   "metadata": {},
   "source": [
    "#### Q1: Extract Top Four Teams\n",
    "Which of the following commands can you use to extract the top 4 teams in the dataset ‘ipl18’ with just the ‘Team’ and ‘Points’ column?\n",
    "\n",
    "\n",
    "-  ipl18.loc [0:3, [‘Team’, ‘Points’]]\n",
    "-  ipl18.loc [1:4, [‘Team’, ‘Points’]]\n",
    "-  ipl18.loc [0:4, [‘Team’, ‘Points’]]\n",
    "-  ipl18.loc [1:3, [‘Team’, ‘Points’]]"
   ]
  },
  {
   "cell_type": "code",
   "execution_count": null,
   "metadata": {},
   "outputs": [],
   "source": [
    "# Type your code here"
   ]
  },
  {
   "cell_type": "markdown",
   "metadata": {},
   "source": [
    "#### Q2: Filtering based on conditions\n",
    "Suppose in ‘ipl18’, you want to filter out the teams that have an NRR greater than zero, and for which the ‘For’ score exceeds the ‘Against’ score, i.e. both the conditions should be satisfied. Which teams will be left after you perform the above filtration? (Run the commands on the Python Notebook provided, rather than performing a manual calculation)\n",
    "\n",
    "-  CSK, MI\n",
    "-  SRH, CSK, MI\n",
    "-  SRH, CSK, RCB\n",
    "-  SRH, CSK, MI, RCB"
   ]
  },
  {
   "cell_type": "code",
   "execution_count": null,
   "metadata": {},
   "outputs": [],
   "source": [
    "# Type your code here"
   ]
  },
  {
   "cell_type": "markdown",
   "metadata": {},
   "source": [
    "#### Q3: Operations on multiple dataframes\n",
    "If all the stats are taken for both ‘ipl17’ and ‘ipl18’, which team with its total points greater than 25 will have the highest win percentage?\n",
    "\n",
    "-  KKR\n",
    "-  CSK\n",
    "-  RPS\n",
    "-  SRH"
   ]
  },
  {
   "cell_type": "code",
   "execution_count": null,
   "metadata": {},
   "outputs": [],
   "source": [
    "# Type your code here"
   ]
  }
 ],
 "metadata": {
  "kernelspec": {
   "display_name": "Python 3",
   "language": "python",
   "name": "python3"
  },
  "language_info": {
   "codemirror_mode": {
    "name": "ipython",
    "version": 3
   },
   "file_extension": ".py",
   "mimetype": "text/x-python",
   "name": "python",
   "nbconvert_exporter": "python",
   "pygments_lexer": "ipython3",
   "version": "3.7.0"
  }
 },
 "nbformat": 4,
 "nbformat_minor": 2
}
